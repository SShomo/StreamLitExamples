{
  "nbformat": 4,
  "nbformat_minor": 0,
  "metadata": {
    "colab": {
      "provenance": []
    },
    "kernelspec": {
      "name": "python3",
      "display_name": "Python 3"
    },
    "language_info": {
      "name": "python"
    }
  },
  "cells": [
    {
      "cell_type": "code",
      "execution_count": 11,
      "metadata": {
        "colab": {
          "base_uri": "https://localhost:8080/",
          "height": 374
        },
        "id": "5buP3iBBsDt6",
        "outputId": "d4cb81b6-62a4-4245-cef6-3e0ca81ed87e"
      },
      "outputs": [
        {
          "output_type": "error",
          "ename": "ModuleNotFoundError",
          "evalue": "ignored",
          "traceback": [
            "\u001b[0;31m---------------------------------------------------------------------------\u001b[0m",
            "\u001b[0;31mModuleNotFoundError\u001b[0m                       Traceback (most recent call last)",
            "\u001b[0;32m<ipython-input-11-96552392518e>\u001b[0m in \u001b[0;36m<cell line: 4>\u001b[0;34m()\u001b[0m\n\u001b[1;32m      2\u001b[0m \u001b[0;32mimport\u001b[0m \u001b[0mpandas\u001b[0m \u001b[0;32mas\u001b[0m \u001b[0mpd\u001b[0m\u001b[0;34m\u001b[0m\u001b[0;34m\u001b[0m\u001b[0m\n\u001b[1;32m      3\u001b[0m \u001b[0;32mimport\u001b[0m \u001b[0maltair\u001b[0m \u001b[0;32mas\u001b[0m \u001b[0malt\u001b[0m\u001b[0;34m\u001b[0m\u001b[0;34m\u001b[0m\u001b[0m\n\u001b[0;32m----> 4\u001b[0;31m \u001b[0;32mimport\u001b[0m \u001b[0mstreamlit\u001b[0m \u001b[0;32mas\u001b[0m \u001b[0mst\u001b[0m\u001b[0;34m\u001b[0m\u001b[0;34m\u001b[0m\u001b[0m\n\u001b[0m\u001b[1;32m      5\u001b[0m \u001b[0;34m\u001b[0m\u001b[0m\n\u001b[1;32m      6\u001b[0m \u001b[0mdata\u001b[0m \u001b[0;34m=\u001b[0m \u001b[0mpd\u001b[0m\u001b[0;34m.\u001b[0m\u001b[0mread_csv\u001b[0m\u001b[0;34m(\u001b[0m\u001b[0;34m\"https://raw.githubusercontent.com/datasciencedojo/datasets/master/titanic.csv\"\u001b[0m\u001b[0;34m)\u001b[0m\u001b[0;34m\u001b[0m\u001b[0;34m\u001b[0m\u001b[0m\n",
            "\u001b[0;31mModuleNotFoundError\u001b[0m: No module named 'streamlit'",
            "",
            "\u001b[0;31m---------------------------------------------------------------------------\u001b[0;32m\nNOTE: If your import is failing due to a missing package, you can\nmanually install dependencies using either !pip or !apt.\n\nTo view examples of installing some common dependencies, click the\n\"Open Examples\" button below.\n\u001b[0;31m---------------------------------------------------------------------------\u001b[0m\n"
          ],
          "errorDetails": {
            "actions": [
              {
                "action": "open_url",
                "actionText": "Open Examples",
                "url": "/notebooks/snippets/importing_libraries.ipynb"
              }
            ]
          }
        }
      ],
      "source": [
        "import numpy as np\n",
        "import pandas as pd\n",
        "import altair as alt\n",
        "import streamlit as st\n",
        "\n",
        "data = pd.read_csv(\"https://raw.githubusercontent.com/datasciencedojo/datasets/master/titanic.csv\")\n",
        "\n",
        "#Can we scroll? Controls\n",
        "#Input boxes/Buttons\n",
        "#What does your layout look like?\n",
        "\n",
        "#Where is my daata [Github, Streamlit, Browser]\n",
        "#Sessions as part of interactivity\n",
        "#streamlit layouts and containers, look it up\n",
        "\n",
        "col1, col2, col3 = st.columns(3)\n",
        "\n",
        "data.info()\n",
        "\n",
        "chart1 = alt.Chart(data).mark_circle(size = 100).encode(\n",
        "    x = 'Age',\n",
        "    y = 'Fare',\n",
        "    tooltip = ['Name', 'Survived']\n",
        ")\n",
        "\n",
        "chart2 = alt.Chart(data).mark_area().encode(\n",
        "    alt.X('Fare'),\n",
        "    alt.Y('Age')\n",
        ")\n",
        "with st.sidebar:\n",
        "  data['Name']\n",
        "with col1:\n",
        "  st.altair_chart(chart1, use_container_width = True)\n",
        "with col2:\n",
        "    st.altair_chart(chart2, use_container_width = True)\n",
        "with col3:\n",
        "  pass\n",
        "\n",
        "\n",
        "st.altair_chart(Chart, use_container_width=True)\n",
        "\n",
        "\n",
        "data.sample(10)\n",
        "\n",
        "#Make a sidebar\n",
        "\n",
        "#Make three charts\n"
      ]
    }
  ]
}